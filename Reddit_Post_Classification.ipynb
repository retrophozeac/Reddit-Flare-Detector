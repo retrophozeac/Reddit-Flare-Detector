{
  "nbformat": 4,
  "nbformat_minor": 0,
  "metadata": {
    "colab": {
      "name": "Reddit-Post-Classification.ipynb",
      "provenance": [],
      "collapsed_sections": [],
      "mount_file_id": "1JexnFSZqcO-aXS55wsj3aX8JAvw5sEDb",
      "authorship_tag": "ABX9TyPMjtE0NgbO8WZB9cXuNLHn",
      "include_colab_link": true
    },
    "kernelspec": {
      "name": "python3",
      "display_name": "Python 3"
    }
  },
  "cells": [
    {
      "cell_type": "markdown",
      "metadata": {
        "id": "view-in-github",
        "colab_type": "text"
      },
      "source": [
        "<a href=\"https://colab.research.google.com/github/nakul-jindal/Reddit-post-classification/blob/main/Reddit_Post_Classification.ipynb\" target=\"_parent\"><img src=\"https://colab.research.google.com/assets/colab-badge.svg\" alt=\"Open In Colab\"/></a>"
      ]
    },
    {
      "cell_type": "code",
      "metadata": {
        "id": "QMnDis7q9u_0"
      },
      "source": [
        "#!pip install html5lib\n",
        "#!pip install lxml\n",
        "#!pip install selenium\n",
        "#from selenium import webdriver\n",
        "#from bs4 import BeautifulSoup\n",
        "import pandas as pd\n",
        "import numpy as np"
      ],
      "execution_count": null,
      "outputs": []
    },
    {
      "cell_type": "code",
      "metadata": {
        "id": "zeSwCu0n6J4P"
      },
      "source": [
        "!pip install praw\n",
        "import praw \n",
        "reddit = praw.Reddit(client_id='6S2KmMdFMXB5_w' ,client_secret='pArC5wEshiS0jouk1RKZ7e_AtY4', user_agent='nkl',username='PerfectCarpet',password='nakul2001')\n",
        "rindia = reddit.subreddit('india')"
      ],
      "execution_count": null,
      "outputs": []
    },
    {
      "cell_type": "code",
      "metadata": {
        "id": "i9mWP2zV-iqW"
      },
      "source": [
        "posts_ = []\n",
        "for post in rindia.hot(limit=10000):\n",
        "    posts_.append([post.title, post.score,post.link_flair_css_class, post.num_comments, post.selftext])\n",
        "for post in rindia.top(limit=10000):\n",
        "    posts_.append([post.title, post.score,post.link_flair_css_class, post.num_comments, post.selftext])\n",
        "for post in rindia.rising(limit=10000):\n",
        "    posts_.append([post.title,post.score,post.link_flair_css_class, post.num_comments, post.selftext])\n",
        "for post in rindia.new(limit=10000):\n",
        "    posts_.append([post.title,post.score,post.link_flair_css_class, post.num_comments, post.selftext])             "
      ],
      "execution_count": null,
      "outputs": []
    },
    {
      "cell_type": "code",
      "metadata": {
        "id": "lTlGsJlVs4KW"
      },
      "source": [
        "posts = pd.DataFrame(posts_,columns=['title','score','flair','num_comments','selftext'])  \n",
        "posts "
      ],
      "execution_count": null,
      "outputs": []
    },
    {
      "cell_type": "code",
      "metadata": {
        "id": "I78hSpw6pGts"
      },
      "source": [
        "posts=posts[['title','flair','selftext']]"
      ],
      "execution_count": null,
      "outputs": []
    },
    {
      "cell_type": "code",
      "metadata": {
        "id": "ZpRTDC3lszSE"
      },
      "source": [
        "posts = posts[pd.notnull(posts['flair'])]\n",
        "posts=posts.drop_duplicates(keep=False , inplace=False , ignore_index=True)\n",
        "posts"
      ],
      "execution_count": null,
      "outputs": []
    },
    {
      "cell_type": "code",
      "metadata": {
        "id": "ZndL3KZdDjci",
        "colab": {
          "base_uri": "https://localhost:8080/",
          "height": 949
        },
        "outputId": "6d5faba1-d872-47cf-9dbe-7de1834d3b42"
      },
      "source": [
        "posts = pd.read_csv('totalfinaldata.csv')\n",
        "posts = posts[pd.notnull(posts['flare'])]\n",
        "posts"
      ],
      "execution_count": null,
      "outputs": [
        {
          "output_type": "execute_result",
          "data": {
            "text/html": [
              "<div>\n",
              "<style scoped>\n",
              "    .dataframe tbody tr th:only-of-type {\n",
              "        vertical-align: middle;\n",
              "    }\n",
              "\n",
              "    .dataframe tbody tr th {\n",
              "        vertical-align: top;\n",
              "    }\n",
              "\n",
              "    .dataframe thead th {\n",
              "        text-align: right;\n",
              "    }\n",
              "</style>\n",
              "<table border=\"1\" class=\"dataframe\">\n",
              "  <thead>\n",
              "    <tr style=\"text-align: right;\">\n",
              "      <th></th>\n",
              "      <th>Unnamed: 0</th>\n",
              "      <th>title</th>\n",
              "      <th>score</th>\n",
              "      <th>id</th>\n",
              "      <th>flare</th>\n",
              "      <th>subreddit</th>\n",
              "      <th>url</th>\n",
              "      <th>num_comments</th>\n",
              "      <th>created</th>\n",
              "      <th>Unnamed: 9</th>\n",
              "    </tr>\n",
              "  </thead>\n",
              "  <tbody>\n",
              "    <tr>\n",
              "      <th>0</th>\n",
              "      <td>151</td>\n",
              "      <td>Fat cat VCs and start-ups raising thousands of...</td>\n",
              "      <td>73</td>\n",
              "      <td>fzyc4y</td>\n",
              "      <td>business /econmy</td>\n",
              "      <td>india</td>\n",
              "      <td>https://www.moneylife.in/article/fat-cat-vcs-a...</td>\n",
              "      <td>2</td>\n",
              "      <td>1.586733e+09</td>\n",
              "      <td>NaN</td>\n",
              "    </tr>\n",
              "    <tr>\n",
              "      <th>1</th>\n",
              "      <td>152</td>\n",
              "      <td>Amazon Prime Now delivery app to shut down in ...</td>\n",
              "      <td>22</td>\n",
              "      <td>g015ho</td>\n",
              "      <td>business /econmy</td>\n",
              "      <td>india</td>\n",
              "      <td>https://m.hindustantimes.com/tech/amazon-prime...</td>\n",
              "      <td>3</td>\n",
              "      <td>1.586742e+09</td>\n",
              "      <td>NaN</td>\n",
              "    </tr>\n",
              "    <tr>\n",
              "      <th>2</th>\n",
              "      <td>153</td>\n",
              "      <td>Thoughts on social crowdfunding platforms?</td>\n",
              "      <td>3</td>\n",
              "      <td>fzz8v4</td>\n",
              "      <td>business /econmy</td>\n",
              "      <td>india</td>\n",
              "      <td>https://www.reddit.com/r/india/comments/fzz8v4...</td>\n",
              "      <td>0</td>\n",
              "      <td>1.586736e+09</td>\n",
              "      <td>NaN</td>\n",
              "    </tr>\n",
              "    <tr>\n",
              "      <th>3</th>\n",
              "      <td>154</td>\n",
              "      <td>People’s Bank of China picks up 1.75 crore sha...</td>\n",
              "      <td>11</td>\n",
              "      <td>fzsa3l</td>\n",
              "      <td>business /econmy</td>\n",
              "      <td>india</td>\n",
              "      <td>https://www.moneycontrol.com/news/business/peo...</td>\n",
              "      <td>2</td>\n",
              "      <td>1.586705e+09</td>\n",
              "      <td>NaN</td>\n",
              "    </tr>\n",
              "    <tr>\n",
              "      <th>4</th>\n",
              "      <td>155</td>\n",
              "      <td>These so called grocery apps.</td>\n",
              "      <td>25</td>\n",
              "      <td>fz6429</td>\n",
              "      <td>business /econmy</td>\n",
              "      <td>india</td>\n",
              "      <td>https://www.reddit.com/r/india/comments/fz6429...</td>\n",
              "      <td>13</td>\n",
              "      <td>1.586643e+09</td>\n",
              "      <td>NaN</td>\n",
              "    </tr>\n",
              "    <tr>\n",
              "      <th>...</th>\n",
              "      <td>...</td>\n",
              "      <td>...</td>\n",
              "      <td>...</td>\n",
              "      <td>...</td>\n",
              "      <td>...</td>\n",
              "      <td>...</td>\n",
              "      <td>...</td>\n",
              "      <td>...</td>\n",
              "      <td>...</td>\n",
              "      <td>...</td>\n",
              "    </tr>\n",
              "    <tr>\n",
              "      <th>3887</th>\n",
              "      <td>622</td>\n",
              "      <td>Social distancing at stall of vegetable vendor...</td>\n",
              "      <td>1640</td>\n",
              "      <td>fo9v4v</td>\n",
              "      <td>Coronavirus</td>\n",
              "      <td>india</td>\n",
              "      <td>https://i.redd.it/nwbw3kl9vno41.jpg</td>\n",
              "      <td>49</td>\n",
              "      <td>1.585102e+09</td>\n",
              "      <td>NaN</td>\n",
              "    </tr>\n",
              "    <tr>\n",
              "      <th>3888</th>\n",
              "      <td>623</td>\n",
              "      <td>The social distance called \"priviledge\"</td>\n",
              "      <td>1636</td>\n",
              "      <td>fscym1</td>\n",
              "      <td>Coronavirus</td>\n",
              "      <td>india</td>\n",
              "      <td>https://i.redd.it/ibcyvpn6g0q41.jpg</td>\n",
              "      <td>163</td>\n",
              "      <td>1.585690e+09</td>\n",
              "      <td>NaN</td>\n",
              "    </tr>\n",
              "    <tr>\n",
              "      <th>3889</th>\n",
              "      <td>624</td>\n",
              "      <td>I am a doctor working in a COVID-19 screening ...</td>\n",
              "      <td>1610</td>\n",
              "      <td>fq1nzj</td>\n",
              "      <td>Coronavirus</td>\n",
              "      <td>india</td>\n",
              "      <td>https://www.reddit.com/r/india/comments/fq1nzj...</td>\n",
              "      <td>306</td>\n",
              "      <td>1.585360e+09</td>\n",
              "      <td>NaN</td>\n",
              "    </tr>\n",
              "    <tr>\n",
              "      <th>3890</th>\n",
              "      <td>625</td>\n",
              "      <td>Social Distancing level- Dad</td>\n",
              "      <td>1529</td>\n",
              "      <td>fokifq</td>\n",
              "      <td>Coronavirus</td>\n",
              "      <td>india</td>\n",
              "      <td>https://i.redd.it/r8lriw9a3ro41.jpg</td>\n",
              "      <td>44</td>\n",
              "      <td>1.585141e+09</td>\n",
              "      <td>NaN</td>\n",
              "    </tr>\n",
              "    <tr>\n",
              "      <th>3891</th>\n",
              "      <td>626</td>\n",
              "      <td>ANI spreading another misinformation about Tab...</td>\n",
              "      <td>1421</td>\n",
              "      <td>fwsohn</td>\n",
              "      <td>Coronavirus</td>\n",
              "      <td>india</td>\n",
              "      <td>https://i.redd.it/nw3uvi2engr41.png</td>\n",
              "      <td>110</td>\n",
              "      <td>1.586322e+09</td>\n",
              "      <td>NaN</td>\n",
              "    </tr>\n",
              "  </tbody>\n",
              "</table>\n",
              "<p>3892 rows × 10 columns</p>\n",
              "</div>"
            ],
            "text/plain": [
              "      Unnamed: 0  ... Unnamed: 9\n",
              "0            151  ...        NaN\n",
              "1            152  ...        NaN\n",
              "2            153  ...        NaN\n",
              "3            154  ...        NaN\n",
              "4            155  ...        NaN\n",
              "...          ...  ...        ...\n",
              "3887         622  ...        NaN\n",
              "3888         623  ...        NaN\n",
              "3889         624  ...        NaN\n",
              "3890         625  ...        NaN\n",
              "3891         626  ...        NaN\n",
              "\n",
              "[3892 rows x 10 columns]"
            ]
          },
          "metadata": {
            "tags": []
          },
          "execution_count": 5
        }
      ]
    },
    {
      "cell_type": "code",
      "metadata": {
        "id": "NI1W-tp4nn2e",
        "colab": {
          "base_uri": "https://localhost:8080/",
          "height": 122
        },
        "outputId": "dc7708a4-56b8-49d9-f94f-f50018a1a915"
      },
      "source": [
        "for i in range(0, len(posts)):\n",
        "  if posts['flare'][i]=='Food':\n",
        "    posts['flare'][i]='food'"
      ],
      "execution_count": null,
      "outputs": [
        {
          "output_type": "stream",
          "text": [
            "/usr/local/lib/python3.6/dist-packages/ipykernel_launcher.py:3: SettingWithCopyWarning: \n",
            "A value is trying to be set on a copy of a slice from a DataFrame\n",
            "\n",
            "See the caveats in the documentation: https://pandas.pydata.org/pandas-docs/stable/user_guide/indexing.html#returning-a-view-versus-a-copy\n",
            "  This is separate from the ipykernel package so we can avoid doing imports until\n"
          ],
          "name": "stderr"
        }
      ]
    },
    {
      "cell_type": "code",
      "metadata": {
        "id": "C6we-8G_6Brs",
        "colab": {
          "base_uri": "https://localhost:8080/",
          "height": 51
        },
        "outputId": "d9497b1f-0bfa-4ce4-fb4f-06456912ffb3"
      },
      "source": [
        "import re\n",
        "import nltk\n",
        "nltk.download('stopwords')\n",
        "from nltk.corpus import stopwords\n",
        "from nltk.stem.porter import PorterStemmer"
      ],
      "execution_count": null,
      "outputs": [
        {
          "output_type": "stream",
          "text": [
            "[nltk_data] Downloading package stopwords to /root/nltk_data...\n",
            "[nltk_data]   Unzipping corpora/stopwords.zip.\n"
          ],
          "name": "stdout"
        }
      ]
    },
    {
      "cell_type": "code",
      "metadata": {
        "id": "d_-97_1OUWzf"
      },
      "source": [
        "corpus = []\n",
        "for i in range(0, len(posts)):\n",
        "    title = re.sub('[^a-zA-Z?]', ' ', posts['title'][i])\n",
        "    title = title.lower()\n",
        "    title = title.split()\n",
        "    ps = PorterStemmer()\n",
        "    title = [ps.stem(word) for word in title if not word in set(stopwords.words('english'))]\n",
        "    title = ' '.join(title)\n",
        "    corpus.append(title)\n"
      ],
      "execution_count": null,
      "outputs": []
    },
    {
      "cell_type": "code",
      "metadata": {
        "id": "iyNSz4oyg5bc"
      },
      "source": [
        "from sklearn.feature_extraction.text import CountVectorizer\n",
        "cv = CountVectorizer(max_features = 15000)\n",
        "X = cv.fit_transform(corpus).toarray()"
      ],
      "execution_count": null,
      "outputs": []
    },
    {
      "cell_type": "code",
      "metadata": {
        "id": "bBJ2NVcehQTm",
        "colab": {
          "base_uri": "https://localhost:8080/",
          "height": 51
        },
        "outputId": "e563bce6-cd9a-4682-e3fc-cbf35393d2a3"
      },
      "source": [
        "y=posts.iloc[:,4].values\n",
        "from sklearn.preprocessing import LabelEncoder, OneHotEncoder\n",
        "Labelencoder=LabelEncoder()\n",
        "y=Labelencoder.fit_transform(y)\n",
        "Labelencoder.classes_"
      ],
      "execution_count": null,
      "outputs": [
        {
          "output_type": "execute_result",
          "data": {
            "text/plain": [
              "array(['Coronavirus', 'Entertainment', 'Non-Political', 'Politics',\n",
              "       'Science Technology', 'business /econmy', 'food'], dtype=object)"
            ]
          },
          "metadata": {
            "tags": []
          },
          "execution_count": 10
        }
      ]
    },
    {
      "cell_type": "code",
      "metadata": {
        "id": "ZH0kQNY90q5J"
      },
      "source": [
        "from sklearn.model_selection import train_test_split\n",
        "X_train, X_test, y_train, y_test = train_test_split(X, y, test_size = 0.20, random_state = 0)"
      ],
      "execution_count": null,
      "outputs": []
    },
    {
      "cell_type": "code",
      "metadata": {
        "id": "Nze5aapZwSsR",
        "colab": {
          "base_uri": "https://localhost:8080/",
          "height": 85
        },
        "outputId": "5d3ea4c7-e2a5-425b-b63d-1fcecc6d0707"
      },
      "source": [
        "from sklearn.svm import SVC\n",
        "classifier = SVC(random_state = 0)\n",
        "classifier.fit(X_train, y_train)"
      ],
      "execution_count": null,
      "outputs": [
        {
          "output_type": "execute_result",
          "data": {
            "text/plain": [
              "SVC(C=1.0, break_ties=False, cache_size=200, class_weight=None, coef0=0.0,\n",
              "    decision_function_shape='ovr', degree=3, gamma='scale', kernel='rbf',\n",
              "    max_iter=-1, probability=False, random_state=0, shrinking=True, tol=0.001,\n",
              "    verbose=False)"
            ]
          },
          "metadata": {
            "tags": []
          },
          "execution_count": 25
        }
      ]
    },
    {
      "cell_type": "code",
      "metadata": {
        "id": "X0W-2icW07Xx",
        "colab": {
          "base_uri": "https://localhost:8080/",
          "height": 153
        },
        "outputId": "b618ee8a-6bfb-4c6e-fbb0-913da47bcac5"
      },
      "source": [
        "from sklearn.ensemble import RandomForestClassifier\n",
        "classifier = RandomForestClassifier(n_estimators = 100, criterion = 'entropy', random_state = 0)\n",
        "classifier.fit(X_train, y_train)"
      ],
      "execution_count": null,
      "outputs": [
        {
          "output_type": "execute_result",
          "data": {
            "text/plain": [
              "RandomForestClassifier(bootstrap=True, ccp_alpha=0.0, class_weight=None,\n",
              "                       criterion='entropy', max_depth=None, max_features='auto',\n",
              "                       max_leaf_nodes=None, max_samples=None,\n",
              "                       min_impurity_decrease=0.0, min_impurity_split=None,\n",
              "                       min_samples_leaf=1, min_samples_split=2,\n",
              "                       min_weight_fraction_leaf=0.0, n_estimators=100,\n",
              "                       n_jobs=None, oob_score=False, random_state=0, verbose=0,\n",
              "                       warm_start=False)"
            ]
          },
          "metadata": {
            "tags": []
          },
          "execution_count": 12
        }
      ]
    },
    {
      "cell_type": "code",
      "metadata": {
        "id": "ndd6nZgX1eVN"
      },
      "source": [
        "y_pred = classifier.predict(X_test)"
      ],
      "execution_count": null,
      "outputs": []
    },
    {
      "cell_type": "code",
      "metadata": {
        "id": "uLpVCkao1hXh",
        "colab": {
          "base_uri": "https://localhost:8080/",
          "height": 34
        },
        "outputId": "c856e38e-5f6a-4539-b762-4fd055d4cff5"
      },
      "source": [
        "from sklearn import metrics\n",
        "cm = metrics.confusion_matrix(y_test, y_pred)\n",
        "print(metrics.accuracy_score(y_test, y_pred))"
      ],
      "execution_count": null,
      "outputs": [
        {
          "output_type": "stream",
          "text": [
            "0.675224646983312\n"
          ],
          "name": "stdout"
        }
      ]
    },
    {
      "cell_type": "code",
      "metadata": {
        "id": "yj9s7sFdobQf",
        "colab": {
          "base_uri": "https://localhost:8080/",
          "height": 660
        },
        "outputId": "e0eb5ce8-8b3a-40f5-d4f9-83007f620c4f"
      },
      "source": [
        "from sklearn.metrics import confusion_matrix\n",
        "import seaborn as sns\n",
        "import matplotlib.pyplot as plt\n",
        "import numpy as np\n",
        "#target_names = (['business','cor', 'ent' , 'food' , 'non-pol' , 'pol' , 'tech'])\n",
        "cm = confusion_matrix(y_test, y_pred)\n",
        "# Normalise\n",
        "cmn = cm.astype('float') / cm.sum(axis=1)[:, np.newaxis]\n",
        "fig, ax = plt.subplots(figsize=(15,10))\n",
        "sns.heatmap(cmn, annot=True, fmt='.2f', xticklabels=Labelencoder.classes_, yticklabels=Labelencoder.classes_)\n",
        "plt.ylabel('Actual')\n",
        "plt.xlabel('Predicted')\n",
        "plt.show(block=False)"
      ],
      "execution_count": null,
      "outputs": [
        {
          "output_type": "stream",
          "text": [
            "/usr/local/lib/python3.6/dist-packages/statsmodels/tools/_testing.py:19: FutureWarning: pandas.util.testing is deprecated. Use the functions in the public API at pandas.testing instead.\n",
            "  import pandas.util.testing as tm\n"
          ],
          "name": "stderr"
        },
        {
          "output_type": "display_data",
          "data": {
            "image/png": "[encoded data removed]",
            "text/plain": [
              "<Figure size 1080x720 with 2 Axes>"
            ]
          },
          "metadata": {
            "tags": [],
            "needs_background": "light"
          }
        }
      ]
    },
    {
      "cell_type": "code",
      "metadata": {
        "id": "_t1fLx6psfMH",
        "colab": {
          "base_uri": "https://localhost:8080/",
          "height": 627
        },
        "outputId": "3a3b3e7c-12e9-452b-dc59-cba929349e0f"
      },
      "source": [
        "y_pred = classifier.predict(X_train)\n",
        "print(metrics.accuracy_score(y_train, y_pred))\n",
        "cm = confusion_matrix(y_train, y_pred)\n",
        "# Normalise\n",
        "cmn = cm.astype('float') / cm.sum(axis=1)[:, np.newaxis]\n",
        "fig, ax = plt.subplots(figsize=(15,10))\n",
        "sns.heatmap(cmn, annot=True, fmt='.2f', xticklabels=Labelencoder.classes_, yticklabels=Labelencoder.classes_)\n",
        "plt.ylabel('Actual')\n",
        "plt.xlabel('Predicted')\n",
        "plt.show(block=False)\n"
      ],
      "execution_count": null,
      "outputs": [
        {
          "output_type": "stream",
          "text": [
            "0.9987150658528751\n"
          ],
          "name": "stdout"
        },
        {
          "output_type": "display_data",
          "data": {
            "image/png": "[encoded data removed]",
            "text/plain": [
              "<Figure size 1080x720 with 2 Axes>"
            ]
          },
          "metadata": {
            "tags": [],
            "needs_background": "light"
          }
        }
      ]
    },
    {
      "cell_type": "code",
      "metadata": {
        "id": "Wt0k3Ctp2OYX"
      },
      "source": [
        "import pylab as pl\n",
        "pl.matshow(cm)\n",
        "pl.title('Confusion matrix of the classifier')\n",
        "pl.colorbar()\n",
        "pl.show()"
      ],
      "execution_count": null,
      "outputs": []
    },
    {
      "cell_type": "code",
      "metadata": {
        "id": "C75CCAPt2yvh"
      },
      "source": [
        "import matplotlib.pyplot as plt\n",
        "labels = ['Coronavirus', 'Entertainment', 'Non-Political', 'Politics',\n",
        "       'Science Technology', 'business /econmy', 'food']\n",
        "cm = metrics.confusion_matrix(y_test, y_pred, labels)\n",
        "print(cm)\n",
        "fig = plt.figure()\n",
        "ax = fig.add_subplot(111)\n",
        "cax = ax.matshow(cm)\n",
        "plt.title('Confusion matrix of the classifier')\n",
        "fig.colorbar(cax)\n",
        "ax.set_xticklabels([''] + labels)\n",
        "ax.set_yticklabels([''] + labels)\n",
        "plt.xlabel('Predicted')\n",
        "plt.ylabel('True')\n",
        "plt.show()"
      ],
      "execution_count": null,
      "outputs": []
    },
    {
      "cell_type": "code",
      "metadata": {
        "id": "LPf087S9-k2x"
      },
      "source": [
        "import seaborn as sns\n",
        "import matplotlib.pyplot as plt     \n",
        "\n",
        "ax= plt.subplot()\n",
        "sns.heatmap(cm, annot=True, ax = ax); #annot=True to annotate cells\n",
        "\n",
        "# labels, title and ticks\n",
        "ax.set_xlabel('Predicted labels');ax.set_ylabel('True labels'); \n",
        "ax.set_title('Confusion Matrix'); \n",
        "ax.xaxis.set_ticklabels(['Coronavirus', 'Entertainment', 'Non-Political', 'Politics',\n",
        "       'Science Technology', 'business /econmy', 'food']); ax.yaxis.set_ticklabels(['Coronavirus', 'Entertainment', 'Non-Political', 'Politics',\n",
        "       'Science Technology', 'business /econmy', 'food']);"
      ],
      "execution_count": null,
      "outputs": []
    },
    {
      "cell_type": "code",
      "metadata": {
        "id": "1B_ytvvHMOEx"
      },
      "source": [
        "import seaborn as sns\n",
        "import matplotlib.pyplot as plt     \n",
        "\n",
        "ax= plt.subplot()\n",
        "sns.heatmap(cm, annot=True, ax = ax); #annot=True to annotate cells\n",
        "\n",
        "# labels, title and ticks\n",
        "ax.set_xlabel('Predicted labels');ax.set_ylabel('True labels'); \n",
        "ax.set_title('Confusion Matrix'); \n",
        "ax.xaxis.set_ticklabels(['Cov', 'Ent', 'NonP', 'Pol',\n",
        "       'SnT', 'biz', 'food']); ax.yaxis.set_ticklabels(['Cov', 'Ent', 'NonP', 'Pol',\n",
        "       'SnT', 'biz', 'food']);"
      ],
      "execution_count": null,
      "outputs": []
    }
  ]
}