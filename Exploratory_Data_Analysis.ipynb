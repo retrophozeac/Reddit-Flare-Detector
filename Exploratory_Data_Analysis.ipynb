{
  "nbformat": 4,
  "nbformat_minor": 0,
  "metadata": {
    "colab": {
      "name": "Exploratory Data Analysis.ipynb",
      "provenance": [],
      "authorship_tag": "ABX9TyMFBT8n17yGqj66N+SBgkFm",
      "include_colab_link": true
    },
    "kernelspec": {
      "name": "python3",
      "display_name": "Python 3"
    }
  },
  "cells": [
    {
      "cell_type": "markdown",
      "metadata": {
        "id": "view-in-github",
        "colab_type": "text"
      },
      "source": [
        "<a href=\"https://colab.research.google.com/github/nakul-jindal/Reddit-post-classification/blob/main/Exploratory_Data_Analysis.ipynb\" target=\"_parent\"><img src=\"https://colab.research.google.com/assets/colab-badge.svg\" alt=\"Open In Colab\"/></a>"
      ]
    },
    {
      "cell_type": "code",
      "metadata": {
        "id": "UolYHqIgMrj4"
      },
      "source": [
        "import numpy as np\n",
        "import pandas as pd\n",
        "import matplotlib.pyplot as plt\n",
        "import seaborn as sns"
      ],
      "execution_count": null,
      "outputs": []
    },
    {
      "cell_type": "code",
      "metadata": {
        "id": "DK06UTjbw9CX"
      },
      "source": [
        "posts = pd.read_csv('totalfinaldata.csv')\n",
        "posts\n",
        "for i in range(0, len(posts)):\n",
        "  if posts['flare'][i]=='Food':\n",
        "    posts['flare'][i]='food'"
      ],
      "execution_count": null,
      "outputs": []
    },
    {
      "cell_type": "code",
      "metadata": {
        "id": "Z7dtIBVIx7vd"
      },
      "source": [
        "X=posts.iloc[:,1].values\n",
        "y=posts.iloc[:,4].values"
      ],
      "execution_count": null,
      "outputs": []
    },
    {
      "cell_type": "code",
      "metadata": {
        "id": "-eeqFIyvudQ4"
      },
      "source": [
        "from sklearn.model_selection import train_test_split\n",
        "X_train, X_test, y_train, y_test = train_test_split(X, y, test_size = 0.20, random_state = 0)"
      ],
      "execution_count": null,
      "outputs": []
    },
    {
      "cell_type": "code",
      "metadata": {
        "id": "ydzlvYwumOzx"
      },
      "source": [
        "import re\n",
        "import nltk\n",
        "#nltk.download('stopwords')\n",
        "from nltk.corpus import stopwords\n",
        "from nltk.stem.porter import PorterStemmer\n",
        "from sklearn.feature_extraction.text import CountVectorizer"
      ],
      "execution_count": null,
      "outputs": []
    },
    {
      "cell_type": "code",
      "metadata": {
        "id": "hZ1fmVwQmSBz"
      },
      "source": [
        "corpus_train = []\n",
        "for i in range(0, len(X_train)):\n",
        "    title = re.sub('[^a-zA-Z?]', ' ', X_train[i])\n",
        "    title = title.lower()\n",
        "    title = title.split()\n",
        "    ps = PorterStemmer()\n",
        "    title = [ps.stem(word) for word in title if not word in set(stopwords.words('english'))]\n",
        "    title = ' '.join(title)\n",
        "    corpus_train.append(title)"
      ],
      "execution_count": null,
      "outputs": []
    },
    {
      "cell_type": "code",
      "metadata": {
        "id": "7dVktXudorry"
      },
      "source": [
        "cv = CountVectorizer()  #max_features = 15000\n",
        "X_train = cv.fit_transform(corpus_train).toarray()"
      ],
      "execution_count": null,
      "outputs": []
    },
    {
      "cell_type": "code",
      "metadata": {
        "id": "wkzRswBny400"
      },
      "source": [
        "corpus_test = []\n",
        "for i in range(0, len(X_test)):\n",
        "    title = re.sub('[^a-zA-Z?]', ' ', X_test[i])\n",
        "    title = title.lower()\n",
        "    title = title.split()\n",
        "    ps = PorterStemmer()\n",
        "    title = [ps.stem(word) for word in title if not word in set(stopwords.words('english'))]\n",
        "    title = ' '.join(title)\n",
        "    corpus_test.append(title)"
      ],
      "execution_count": null,
      "outputs": []
    },
    {
      "cell_type": "code",
      "metadata": {
        "id": "SGWjDZLovadG"
      },
      "source": [
        "cv = CountVectorizer()          #max_features = 3000\n",
        "X_test = cv.fit_transform(corpus_test).toarray()"
      ],
      "execution_count": null,
      "outputs": []
    },
    {
      "cell_type": "code",
      "metadata": {
        "id": "WCelNtDy1iU_",
        "colab": {
          "base_uri": "https://localhost:8080/",
          "height": 34
        },
        "outputId": "def80878-b7a7-4c68-e788-cbe339ab054d"
      },
      "source": [
        " X_test.shape[1]"
      ],
      "execution_count": null,
      "outputs": [
        {
          "output_type": "execute_result",
          "data": {
            "text/plain": [
              "3120"
            ]
          },
          "metadata": {
            "tags": []
          },
          "execution_count": 67
        }
      ]
    },
    {
      "cell_type": "code",
      "metadata": {
        "id": "GH2JGrTIoW35",
        "colab": {
          "base_uri": "https://localhost:8080/",
          "height": 51
        },
        "outputId": "213eac4b-b3b7-457c-85c0-6c3ed7d93e98"
      },
      "source": [
        "from sklearn.feature_selection import VarianceThreshold\n",
        "print(\"Number of features before reduction : \", X_train.shape[1])\n",
        "selection = VarianceThreshold(threshold=0.001)\n",
        "t = selection.fit_transform(X_train)\n",
        "print(\"Number of features after reduction : \", t.shape[1])"
      ],
      "execution_count": null,
      "outputs": [
        {
          "output_type": "stream",
          "text": [
            "Number of features before reduction :  6819\n",
            "Number of features after reduction :  1914\n"
          ],
          "name": "stdout"
        }
      ]
    },
    {
      "cell_type": "code",
      "metadata": {
        "id": "rDmv5E6R4Mkj",
        "colab": {
          "base_uri": "https://localhost:8080/",
          "height": 248
        },
        "outputId": "8b1c29ba-dc4d-446b-a40b-bad0d238c3f7"
      },
      "source": [
        "labels = list(set(y_train))\n",
        "counts = []\n",
        "for label in labels:\n",
        "    counts.append(np.count_nonzero(y_train == label))\n",
        "plt.pie(counts, labels=labels, autopct='%1.1f%%')\n",
        "plt.show()"
      ],
      "execution_count": null,
      "outputs": [
        {
          "output_type": "display_data",
          "data": {
            "image/png": "[encoded data removed]",
            "text/plain": [
              "<Figure size 432x288 with 1 Axes>"
            ]
          },
          "metadata": {
            "tags": []
          }
        }
      ]
    }
  ]
}